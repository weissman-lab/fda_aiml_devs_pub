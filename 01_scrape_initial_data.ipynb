{
 "cells": [
  {
   "cell_type": "markdown",
   "metadata": {},
   "source": [
    "## FDA Device Database Scraper\n",
    "This notebook pulls the data on 343 device approvals for AI/ML devices from the FDA website that was released on 09/22/2021: \n",
    "https://www.fda.gov/medical-devices/software-medical-device-samd/artificial-intelligence-and-machine-learning-aiml-enabled-medical-devices"
   ]
  },
  {
   "cell_type": "code",
   "execution_count": 1,
   "metadata": {},
   "outputs": [],
   "source": [
    "import pandas as pd\n",
    "import requests\n",
    "from bs4 import BeautifulSoup"
   ]
  },
  {
   "cell_type": "code",
   "execution_count": 2,
   "metadata": {},
   "outputs": [],
   "source": [
    "FDA_URL = \"https://www.fda.gov/medical-devices/software-medical-device-samd/artificial-intelligence-and-machine-learning-aiml-enabled-medical-devices\"\n",
    "OUTPUT_FILE  = 'fda_approved_devices.csv'"
   ]
  },
  {
   "cell_type": "code",
   "execution_count": 3,
   "metadata": {},
   "outputs": [],
   "source": [
    "# Get web page and parse\n",
    "page = requests.get(FDA_URL)\n",
    "soup = BeautifulSoup(page.content, \"html.parser\")\n",
    "results = soup.find_all(role=\"row\")\n",
    "col_headers = results[0].text.split('\\n')[:-1]\n",
    "entries = [pd.DataFrame(rr.text.split('\\n')[:-1]).T for rr in results[1:]]\n",
    "entries_df = pd.concat(entries)"
   ]
  },
  {
   "cell_type": "code",
   "execution_count": 4,
   "metadata": {},
   "outputs": [
    {
     "data": {
      "text/html": [
       "<div>\n",
       "<style scoped>\n",
       "    .dataframe tbody tr th:only-of-type {\n",
       "        vertical-align: middle;\n",
       "    }\n",
       "\n",
       "    .dataframe tbody tr th {\n",
       "        vertical-align: top;\n",
       "    }\n",
       "\n",
       "    .dataframe thead th {\n",
       "        text-align: right;\n",
       "    }\n",
       "</style>\n",
       "<table border=\"1\" class=\"dataframe\">\n",
       "  <thead>\n",
       "    <tr style=\"text-align: right;\">\n",
       "      <th></th>\n",
       "      <th>0</th>\n",
       "      <th>1</th>\n",
       "      <th>2</th>\n",
       "      <th>3</th>\n",
       "      <th>4</th>\n",
       "      <th>5</th>\n",
       "      <th>6</th>\n",
       "      <th>7</th>\n",
       "    </tr>\n",
       "  </thead>\n",
       "  <tbody>\n",
       "    <tr>\n",
       "      <th>0</th>\n",
       "      <td>09/16/2011</td>\n",
       "      <td>K102778</td>\n",
       "      <td></td>\n",
       "      <td>CellaVision® DM1200 with the body fluid applic...</td>\n",
       "      <td></td>\n",
       "      <td>CellaVision AB</td>\n",
       "      <td>Hematology</td>\n",
       "      <td>JOY</td>\n",
       "    </tr>\n",
       "  </tbody>\n",
       "</table>\n",
       "</div>"
      ],
      "text/plain": [
       "            0        1 2                                                  3 4  \\\n",
       "0  09/16/2011  K102778    CellaVision® DM1200 with the body fluid applic...     \n",
       "\n",
       "                5           6    7  \n",
       "0  CellaVision AB  Hematology  JOY  "
      ]
     },
     "metadata": {},
     "output_type": "display_data"
    }
   ],
   "source": [
    "# List all entries that are messy with some extra columns - just one\n",
    "display(entries_df[entries_df[entries_df.columns[6]].notna()])"
   ]
  },
  {
   "cell_type": "code",
   "execution_count": 5,
   "metadata": {},
   "outputs": [],
   "source": [
    "# Exclude messy entry and clean up df\n",
    "entries_df_clean = entries_df[entries_df[entries_df.columns[6]].isna()].iloc[:,0:6]\n",
    "# Add back the cleaned up messy entry\n",
    "messy_df = entries_df[entries_df[entries_df.columns[6]].notna()]\n",
    "messy_df = messy_df.drop(messy_df.columns[[2,4]], axis = 1)\n",
    "messy_df.columns = range(6)\n",
    "entries_df_clean = entries_df_clean.append(messy_df)\n",
    "# Fix column names\n",
    "entries_df_clean.columns = col_headers\n",
    "# Add link to URL for additional FDA details\n",
    "base_fda_info_url = \"https://www.accessdata.fda.gov/scripts/cdrh/cfdocs/cfpmn/pmn.cfm?ID=\"\n",
    "entries_df_clean['fda_url'] = [base_fda_info_url + id for id in entries_df_clean['Submission Number']]"
   ]
  },
  {
   "cell_type": "code",
   "execution_count": 6,
   "metadata": {},
   "outputs": [
    {
     "data": {
      "text/html": [
       "<div>\n",
       "<style scoped>\n",
       "    .dataframe tbody tr th:only-of-type {\n",
       "        vertical-align: middle;\n",
       "    }\n",
       "\n",
       "    .dataframe tbody tr th {\n",
       "        vertical-align: top;\n",
       "    }\n",
       "\n",
       "    .dataframe thead th {\n",
       "        text-align: right;\n",
       "    }\n",
       "</style>\n",
       "<table border=\"1\" class=\"dataframe\">\n",
       "  <thead>\n",
       "    <tr style=\"text-align: right;\">\n",
       "      <th></th>\n",
       "      <th>Date of Final Decision</th>\n",
       "      <th>Submission Number</th>\n",
       "      <th>Device</th>\n",
       "      <th>Company</th>\n",
       "      <th>Panel (Lead)</th>\n",
       "      <th>Primary Product Code</th>\n",
       "      <th>fda_url</th>\n",
       "    </tr>\n",
       "  </thead>\n",
       "  <tbody>\n",
       "    <tr>\n",
       "      <th>0</th>\n",
       "      <td>06/17/2021</td>\n",
       "      <td>K203514</td>\n",
       "      <td>Precise Position</td>\n",
       "      <td>Philips Healthcare (Suzhou) Co., Ltd.</td>\n",
       "      <td>Radiology</td>\n",
       "      <td>JAK</td>\n",
       "      <td>https://www.accessdata.fda.gov/scripts/cdrh/cf...</td>\n",
       "    </tr>\n",
       "    <tr>\n",
       "      <th>0</th>\n",
       "      <td>06/16/2021</td>\n",
       "      <td>K202718</td>\n",
       "      <td>Qmenta Care Platform Family</td>\n",
       "      <td>Mint Labs, Inc., D/B/A. QMENTA</td>\n",
       "      <td>Radiology</td>\n",
       "      <td>LLZ</td>\n",
       "      <td>https://www.accessdata.fda.gov/scripts/cdrh/cf...</td>\n",
       "    </tr>\n",
       "    <tr>\n",
       "      <th>0</th>\n",
       "      <td>06/11/2021</td>\n",
       "      <td>K210484</td>\n",
       "      <td>LINQ II Insertable Cardiac Monitor, Zelda AI E...</td>\n",
       "      <td>Medtronic, Inc.</td>\n",
       "      <td>Cardiovascular</td>\n",
       "      <td>MXD</td>\n",
       "      <td>https://www.accessdata.fda.gov/scripts/cdrh/cf...</td>\n",
       "    </tr>\n",
       "    <tr>\n",
       "      <th>0</th>\n",
       "      <td>06/10/2021</td>\n",
       "      <td>K203629</td>\n",
       "      <td>IDx-DR</td>\n",
       "      <td>Digital Diagnostics Inc.</td>\n",
       "      <td>Ophthalmic</td>\n",
       "      <td>PIB</td>\n",
       "      <td>https://www.accessdata.fda.gov/scripts/cdrh/cf...</td>\n",
       "    </tr>\n",
       "    <tr>\n",
       "      <th>0</th>\n",
       "      <td>06/02/2021</td>\n",
       "      <td>DEN200069</td>\n",
       "      <td>Cognoa Asd Diagnosis Aid</td>\n",
       "      <td>Cognoa, Inc.</td>\n",
       "      <td>Neurology</td>\n",
       "      <td>QPF</td>\n",
       "      <td>https://www.accessdata.fda.gov/scripts/cdrh/cf...</td>\n",
       "    </tr>\n",
       "    <tr>\n",
       "      <th>...</th>\n",
       "      <td>...</td>\n",
       "      <td>...</td>\n",
       "      <td>...</td>\n",
       "      <td>...</td>\n",
       "      <td>...</td>\n",
       "      <td>...</td>\n",
       "      <td>...</td>\n",
       "    </tr>\n",
       "    <tr>\n",
       "      <th>0</th>\n",
       "      <td>05/15/2008</td>\n",
       "      <td>K080762</td>\n",
       "      <td>IB Neuro, Version 1.0</td>\n",
       "      <td>Imaging Biometrics, LLC</td>\n",
       "      <td>Radiology</td>\n",
       "      <td>LNH</td>\n",
       "      <td>https://www.accessdata.fda.gov/scripts/cdrh/cf...</td>\n",
       "    </tr>\n",
       "    <tr>\n",
       "      <th>0</th>\n",
       "      <td>02/10/2004</td>\n",
       "      <td>K033840</td>\n",
       "      <td>CellaVision DM96 Automatic Hematology Analyzer</td>\n",
       "      <td>Cella Vision AB</td>\n",
       "      <td>Hematology</td>\n",
       "      <td>JOY</td>\n",
       "      <td>https://www.accessdata.fda.gov/scripts/cdrh/cf...</td>\n",
       "    </tr>\n",
       "    <tr>\n",
       "      <th>0</th>\n",
       "      <td>03/15/2001</td>\n",
       "      <td>K003301</td>\n",
       "      <td>DiffMaster Octavia Automatic Hematology Analyzer</td>\n",
       "      <td>CellaVision AB</td>\n",
       "      <td>Hematology</td>\n",
       "      <td>JOY</td>\n",
       "      <td>https://www.accessdata.fda.gov/scripts/cdrh/cf...</td>\n",
       "    </tr>\n",
       "    <tr>\n",
       "      <th>0</th>\n",
       "      <td>03/11/1997</td>\n",
       "      <td>K955841</td>\n",
       "      <td>Compumedics Sleep Monitoring System</td>\n",
       "      <td>Computmedics Sleep Pty. Ltd.</td>\n",
       "      <td>Anesthesiology</td>\n",
       "      <td>MNR</td>\n",
       "      <td>https://www.accessdata.fda.gov/scripts/cdrh/cf...</td>\n",
       "    </tr>\n",
       "    <tr>\n",
       "      <th>0</th>\n",
       "      <td>09/16/2011</td>\n",
       "      <td>K102778</td>\n",
       "      <td>CellaVision® DM1200 with the body fluid applic...</td>\n",
       "      <td>CellaVision AB</td>\n",
       "      <td>Hematology</td>\n",
       "      <td>JOY</td>\n",
       "      <td>https://www.accessdata.fda.gov/scripts/cdrh/cf...</td>\n",
       "    </tr>\n",
       "  </tbody>\n",
       "</table>\n",
       "<p>343 rows × 7 columns</p>\n",
       "</div>"
      ],
      "text/plain": [
       "   Date of Final Decision Submission Number  \\\n",
       "0              06/17/2021           K203514   \n",
       "0              06/16/2021           K202718   \n",
       "0              06/11/2021           K210484   \n",
       "0              06/10/2021           K203629   \n",
       "0              06/02/2021         DEN200069   \n",
       "..                    ...               ...   \n",
       "0              05/15/2008           K080762   \n",
       "0              02/10/2004           K033840   \n",
       "0              03/15/2001           K003301   \n",
       "0              03/11/1997           K955841   \n",
       "0              09/16/2011           K102778   \n",
       "\n",
       "                                               Device  \\\n",
       "0                                    Precise Position   \n",
       "0                         Qmenta Care Platform Family   \n",
       "0   LINQ II Insertable Cardiac Monitor, Zelda AI E...   \n",
       "0                                              IDx-DR   \n",
       "0                            Cognoa Asd Diagnosis Aid   \n",
       "..                                                ...   \n",
       "0                               IB Neuro, Version 1.0   \n",
       "0      CellaVision DM96 Automatic Hematology Analyzer   \n",
       "0    DiffMaster Octavia Automatic Hematology Analyzer   \n",
       "0                 Compumedics Sleep Monitoring System   \n",
       "0   CellaVision® DM1200 with the body fluid applic...   \n",
       "\n",
       "                                  Company    Panel (Lead)  \\\n",
       "0   Philips Healthcare (Suzhou) Co., Ltd.       Radiology   \n",
       "0          Mint Labs, Inc., D/B/A. QMENTA       Radiology   \n",
       "0                         Medtronic, Inc.  Cardiovascular   \n",
       "0                Digital Diagnostics Inc.      Ophthalmic   \n",
       "0                            Cognoa, Inc.       Neurology   \n",
       "..                                    ...             ...   \n",
       "0                 Imaging Biometrics, LLC       Radiology   \n",
       "0                         Cella Vision AB      Hematology   \n",
       "0                          CellaVision AB      Hematology   \n",
       "0            Computmedics Sleep Pty. Ltd.  Anesthesiology   \n",
       "0                          CellaVision AB      Hematology   \n",
       "\n",
       "   Primary Product Code                                            fda_url  \n",
       "0                   JAK  https://www.accessdata.fda.gov/scripts/cdrh/cf...  \n",
       "0                   LLZ  https://www.accessdata.fda.gov/scripts/cdrh/cf...  \n",
       "0                   MXD  https://www.accessdata.fda.gov/scripts/cdrh/cf...  \n",
       "0                   PIB  https://www.accessdata.fda.gov/scripts/cdrh/cf...  \n",
       "0                   QPF  https://www.accessdata.fda.gov/scripts/cdrh/cf...  \n",
       "..                  ...                                                ...  \n",
       "0                   LNH  https://www.accessdata.fda.gov/scripts/cdrh/cf...  \n",
       "0                   JOY  https://www.accessdata.fda.gov/scripts/cdrh/cf...  \n",
       "0                   JOY  https://www.accessdata.fda.gov/scripts/cdrh/cf...  \n",
       "0                   MNR  https://www.accessdata.fda.gov/scripts/cdrh/cf...  \n",
       "0                   JOY  https://www.accessdata.fda.gov/scripts/cdrh/cf...  \n",
       "\n",
       "[343 rows x 7 columns]"
      ]
     },
     "metadata": {},
     "output_type": "display_data"
    }
   ],
   "source": [
    "# Show some data\n",
    "display(entries_df_clean)"
   ]
  },
  {
   "cell_type": "code",
   "execution_count": 7,
   "metadata": {},
   "outputs": [
    {
     "data": {
      "text/plain": [
       "Radiology                      241\n",
       "Cardiovascular                  41\n",
       "Hematology                      13\n",
       "Neurology                       12\n",
       "Ophthalmic                       6\n",
       "Clinical Chemistry               5\n",
       "Microbiology                     5\n",
       "General And Plastic Surgery      5\n",
       "Gastroenterology-Urology         4\n",
       "Anesthesiology                   4\n",
       "General Hospital                 3\n",
       "Pathology                        1\n",
       "Orthopedic                       1\n",
       "Dental                           1\n",
       "Obstetrics And Gynecology        1\n",
       "Name: Panel (Lead), dtype: int64"
      ]
     },
     "execution_count": 7,
     "metadata": {},
     "output_type": "execute_result"
    }
   ],
   "source": [
    "# Count product categories\n",
    "entries_df_clean['Panel (Lead)'].value_counts()\n",
    "# NB don't forget the one from hematology excluded above"
   ]
  },
  {
   "cell_type": "code",
   "execution_count": 8,
   "metadata": {},
   "outputs": [
    {
     "data": {
      "text/plain": [
       "Siemens Medical Solutions USA, Inc.                                13\n",
       "Canon Medical Systems Corporation                                   9\n",
       "Aidoc Medical, Ltd.                                                 8\n",
       "Zebra Medical Vision Ltd.                                           7\n",
       "GE Medical Systems Ultrasound and Primary Care Diagnostics, LLC     7\n",
       "                                                                   ..\n",
       "Icometrix                                                           1\n",
       "Behold.AI Technologies Limited                                      1\n",
       "EXINI Diagnostics AB                                                1\n",
       "Cosmo Artificial Intelligence - AI, Ltd.                            1\n",
       "Circle Cardiovascular Imaging Inc                                   1\n",
       "Name: Company, Length: 249, dtype: int64"
      ]
     },
     "execution_count": 8,
     "metadata": {},
     "output_type": "execute_result"
    }
   ],
   "source": [
    "# Count companies\n",
    "entries_df_clean['Company'].value_counts()"
   ]
  },
  {
   "cell_type": "code",
   "execution_count": 9,
   "metadata": {},
   "outputs": [],
   "source": [
    "# Save to file\n",
    "entries_df_clean.to_csv(OUTPUT_FILE, index = False)"
   ]
  }
 ],
 "metadata": {
  "finalized": {
   "timestamp": 1633121686379,
   "trusted": true
  },
  "kernelspec": {
   "display_name": "Python 3",
   "language": "python",
   "name": "python3"
  },
  "language_info": {
   "codemirror_mode": {
    "name": "ipython",
    "version": 3
   },
   "file_extension": ".py",
   "mimetype": "text/x-python",
   "name": "python",
   "nbconvert_exporter": "python",
   "pygments_lexer": "ipython3",
   "version": "3.9.6"
  }
 },
 "nbformat": 4,
 "nbformat_minor": 5
}
