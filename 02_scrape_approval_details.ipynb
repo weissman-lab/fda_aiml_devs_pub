{
 "cells": [
  {
   "cell_type": "markdown",
   "metadata": {},
   "source": [
    "## Get extra data from openFDA\n",
    "\n",
    "Using the set of devices in the initial database, use the FDA Open API to pull some additional variables."
   ]
  },
  {
   "cell_type": "code",
   "execution_count": 1,
   "metadata": {},
   "outputs": [],
   "source": [
    "import pandas as pd\n",
    "import numpy as np\n",
    "import requests, json, time, warnings"
   ]
  },
  {
   "cell_type": "code",
   "execution_count": 2,
   "metadata": {},
   "outputs": [],
   "source": [
    "# Load data from last notebook\n",
    "DAT_SRC = 'fda_approved_devices.csv'\n",
    "df = pd.read_csv(DAT_SRC)\n",
    "NICE_DELAY = 60 / 240 * 1.05 # Play nicely with the FDA API\n",
    "# Note the API limits: https://open.fda.gov/apis/authentication/\n",
    "# With no API key: 240 requests per minute, per IP address. 1,000 requests per day, per IP address."
   ]
  },
  {
   "cell_type": "code",
   "execution_count": 3,
   "metadata": {},
   "outputs": [],
   "source": [
    "# Use the Open FDA API: https://open.fda.gov/apis/device/510k/\n",
    "def get_openfda_data(id):\n",
    "    '''Take an application number in the 510k pathway or de novo and get the clearance type via open FDA API'''\n",
    "    query = f'https://api.fda.gov/device/510k.json?search=k_number:\"{id}\"'\n",
    "    time.sleep(NICE_DELAY)\n",
    "    res = requests.get(query)\n",
    "    if 'results' in json.loads(res.text).keys():\n",
    "        dat = pd.json_normalize(json.loads(res.text))['results'][0][0]\n",
    "    else:\n",
    "        warnings.warn(f'Unable to obtain results for id: {id}. Returning empty (np.nan) result.')\n",
    "        dat = np.nan\n",
    "    return(dat)\n",
    "\n",
    "def get_vals(rr):\n",
    "    if rr is not np.nan:\n",
    "        return(rr['clearance_type'], rr['openfda']['device_class'])\n",
    "    else:\n",
    "        return(np.nan, np.nan)"
   ]
  },
  {
   "cell_type": "code",
   "execution_count": 4,
   "metadata": {
    "scrolled": true
   },
   "outputs": [
    {
     "name": "stderr",
     "output_type": "stream",
     "text": [
      "<ipython-input-3-7277eff7e1a1>:10: UserWarning: Unable to obtain results for id: K182901 . Returning empty (np.nan) result.\n",
      "  warnings.warn(f'Unable to obtain results for id: {id}. Returning empty (np.nan) result.')\n",
      "<ipython-input-3-7277eff7e1a1>:10: UserWarning: Unable to obtain results for id: P150043. Returning empty (np.nan) result.\n",
      "  warnings.warn(f'Unable to obtain results for id: {id}. Returning empty (np.nan) result.')\n"
     ]
    }
   ],
   "source": [
    "dat_list = [get_openfda_data(id) for id in df['Submission Number']]\n",
    "extra_res = list(zip(*[get_vals(z) for z in dat_list]))\n",
    "\n",
    "df['clearance_type'] = extra_res[0]\n",
    "df['device_class'] = extra_res[1]"
   ]
  },
  {
   "cell_type": "code",
   "execution_count": 5,
   "metadata": {},
   "outputs": [],
   "source": [
    "# Save updated data frame to file\n",
    "df.to_csv(DAT_SRC, index = False)"
   ]
  }
 ],
 "metadata": {
  "finalized": {
   "timestamp": 1633121961729,
   "trusted": true
  },
  "kernelspec": {
   "display_name": "Python 3",
   "language": "python",
   "name": "python3"
  },
  "language_info": {
   "codemirror_mode": {
    "name": "ipython",
    "version": 3
   },
   "file_extension": ".py",
   "mimetype": "text/x-python",
   "name": "python",
   "nbconvert_exporter": "python",
   "pygments_lexer": "ipython3",
   "version": "3.9.6"
  }
 },
 "nbformat": 4,
 "nbformat_minor": 5
}
