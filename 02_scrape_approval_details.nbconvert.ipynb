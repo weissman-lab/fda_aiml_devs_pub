{
 "cells": [
  {
   "cell_type": "markdown",
   "id": "94b273d8",
   "metadata": {},
   "source": [
    "## Get extra data from openFDA\n",
    "\n",
    "Using the set of devices in the initial database, use the FDA Open API to pull some additional variables."
   ]
  },
  {
   "cell_type": "code",
   "execution_count": 1,
   "id": "e8b5bc5d",
   "metadata": {
    "execution": {
     "iopub.execute_input": "2022-12-20T13:50:13.054521Z",
     "iopub.status.busy": "2022-12-20T13:50:13.054070Z",
     "iopub.status.idle": "2022-12-20T13:50:13.331381Z",
     "shell.execute_reply": "2022-12-20T13:50:13.331695Z"
    }
   },
   "outputs": [],
   "source": [
    "import pandas as pd\n",
    "import numpy as np\n",
    "import requests, json, time, warnings"
   ]
  },
  {
   "cell_type": "code",
   "execution_count": 2,
   "id": "65f32240",
   "metadata": {
    "execution": {
     "iopub.execute_input": "2022-12-20T13:50:13.334788Z",
     "iopub.status.busy": "2022-12-20T13:50:13.334239Z",
     "iopub.status.idle": "2022-12-20T13:50:13.349863Z",
     "shell.execute_reply": "2022-12-20T13:50:13.350268Z"
    }
   },
   "outputs": [],
   "source": [
    "# Load data from last notebook\n",
    "DAT_SRC = 'fda_approved_devices.csv'\n",
    "df = pd.read_csv(DAT_SRC)\n",
    "NICE_DELAY = 60 / 240 * 1.05 # Play nicely with the FDA API\n",
    "# Note the API limits: https://open.fda.gov/apis/authentication/\n",
    "# With no API key: 240 requests per minute, per IP address. 1,000 requests per day, per IP address."
   ]
  },
  {
   "cell_type": "code",
   "execution_count": 3,
   "id": "eb02e4e3",
   "metadata": {
    "execution": {
     "iopub.execute_input": "2022-12-20T13:50:13.354875Z",
     "iopub.status.busy": "2022-12-20T13:50:13.354423Z",
     "iopub.status.idle": "2022-12-20T13:50:13.356057Z",
     "shell.execute_reply": "2022-12-20T13:50:13.356361Z"
    }
   },
   "outputs": [],
   "source": [
    "# Use the Open FDA API: https://open.fda.gov/apis/device/510k/\n",
    "def get_openfda_data(id):\n",
    "    '''Take an application number in the 510k pathway or de novo and get the clearance type via open FDA API'''\n",
    "    query = f'https://api.fda.gov/device/510k.json?search=k_number:\"{id}\"'\n",
    "    time.sleep(NICE_DELAY)\n",
    "    res = requests.get(query)\n",
    "    if 'results' in json.loads(res.text).keys():\n",
    "        dat = pd.json_normalize(json.loads(res.text))['results'][0][0]\n",
    "    else:\n",
    "        warnings.warn(f'Unable to obtain results for id: {id}. Returning empty (np.nan) result.')\n",
    "        dat = np.nan\n",
    "    return(dat)\n",
    "\n",
    "def get_vals(rr):\n",
    "    if rr is not np.nan:\n",
    "        return(rr['clearance_type'], rr['openfda']['device_class'])\n",
    "    else:\n",
    "        return(np.nan, np.nan)"
   ]
  },
  {
   "cell_type": "code",
   "execution_count": 4,
   "id": "8cdeeb70",
   "metadata": {
    "execution": {
     "iopub.execute_input": "2022-12-20T13:50:13.359915Z",
     "iopub.status.busy": "2022-12-20T13:50:13.359457Z",
     "iopub.status.idle": "2022-12-20T13:54:00.665530Z",
     "shell.execute_reply": "2022-12-20T13:54:00.665843Z"
    },
    "scrolled": true
   },
   "outputs": [
    {
     "name": "stderr",
     "output_type": "stream",
     "text": [
      "<ipython-input-3-7277eff7e1a1>:10: UserWarning: Unable to obtain results for id: P150043. Returning empty (np.nan) result.\n",
      "  warnings.warn(f'Unable to obtain results for id: {id}. Returning empty (np.nan) result.')\n",
      "<ipython-input-3-7277eff7e1a1>:10: UserWarning: Unable to obtain results for id: P940029. Returning empty (np.nan) result.\n",
      "  warnings.warn(f'Unable to obtain results for id: {id}. Returning empty (np.nan) result.')\n",
      "<ipython-input-3-7277eff7e1a1>:10: UserWarning: Unable to obtain results for id: P200003 . Returning empty (np.nan) result.\n",
      "  warnings.warn(f'Unable to obtain results for id: {id}. Returning empty (np.nan) result.')\n"
     ]
    }
   ],
   "source": [
    "dat_list = [get_openfda_data(id) for id in df['Submission Number']]\n",
    "extra_res = list(zip(*[get_vals(z) for z in dat_list]))\n",
    "\n",
    "df['clearance_type'] = extra_res[0]\n",
    "df['device_class'] = extra_res[1]"
   ]
  },
  {
   "cell_type": "code",
   "execution_count": 5,
   "id": "1a39683c",
   "metadata": {
    "execution": {
     "iopub.execute_input": "2022-12-20T13:54:00.668657Z",
     "iopub.status.busy": "2022-12-20T13:54:00.668167Z",
     "iopub.status.idle": "2022-12-20T13:54:00.679530Z",
     "shell.execute_reply": "2022-12-20T13:54:00.679838Z"
    }
   },
   "outputs": [],
   "source": [
    "# Save updated data frame to file\n",
    "df.to_csv(DAT_SRC, index = False)"
   ]
  }
 ],
 "metadata": {
  "finalized": {
   "timestamp": 1633121961729,
   "trusted": true
  },
  "kernelspec": {
   "display_name": "Python 3",
   "language": "python",
   "name": "python3"
  },
  "language_info": {
   "codemirror_mode": {
    "name": "ipython",
    "version": 3
   },
   "file_extension": ".py",
   "mimetype": "text/x-python",
   "name": "python",
   "nbconvert_exporter": "python",
   "pygments_lexer": "ipython3",
   "version": "3.9.13"
  }
 },
 "nbformat": 4,
 "nbformat_minor": 5
}
