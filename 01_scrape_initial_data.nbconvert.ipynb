{
 "cells": [
  {
   "cell_type": "markdown",
   "id": "3781093c",
   "metadata": {},
   "source": [
    "## FDA Device Database Scraper\n",
    "This notebook pulls the data on 343 device approvals (initially this many, though more have been added, now 521) for AI/ML devices from the FDA website that was released on 09/22/2021: \n",
    "https://www.fda.gov/medical-devices/software-medical-device-samd/artificial-intelligence-and-machine-learning-aiml-enabled-medical-devices"
   ]
  },
  {
   "cell_type": "code",
   "execution_count": 1,
   "id": "0f5c2d20",
   "metadata": {
    "execution": {
     "iopub.execute_input": "2022-12-20T13:50:08.146500Z",
     "iopub.status.busy": "2022-12-20T13:50:08.145843Z",
     "iopub.status.idle": "2022-12-20T13:50:09.010287Z",
     "shell.execute_reply": "2022-12-20T13:50:09.010600Z"
    }
   },
   "outputs": [],
   "source": [
    "import pandas as pd\n",
    "import requests\n",
    "from bs4 import BeautifulSoup"
   ]
  },
  {
   "cell_type": "code",
   "execution_count": 2,
   "id": "d3b96b5d",
   "metadata": {
    "execution": {
     "iopub.execute_input": "2022-12-20T13:50:09.013349Z",
     "iopub.status.busy": "2022-12-20T13:50:09.012912Z",
     "iopub.status.idle": "2022-12-20T13:50:09.014717Z",
     "shell.execute_reply": "2022-12-20T13:50:09.015027Z"
    }
   },
   "outputs": [],
   "source": [
    "FDA_URL = \"https://www.fda.gov/medical-devices/software-medical-device-samd/artificial-intelligence-and-machine-learning-aiml-enabled-medical-devices\"\n",
    "OUTPUT_FILE  = 'fda_approved_devices.csv'"
   ]
  },
  {
   "cell_type": "code",
   "execution_count": 3,
   "id": "3b939f18",
   "metadata": {
    "execution": {
     "iopub.execute_input": "2022-12-20T13:50:09.018490Z",
     "iopub.status.busy": "2022-12-20T13:50:09.018042Z",
     "iopub.status.idle": "2022-12-20T13:50:10.510546Z",
     "shell.execute_reply": "2022-12-20T13:50:10.510997Z"
    }
   },
   "outputs": [],
   "source": [
    "# Get web page and parse\n",
    "page = requests.get(FDA_URL)\n",
    "soup = BeautifulSoup(page.content, \"html.parser\")\n",
    "results = soup.find_all(role=\"row\")\n",
    "col_headers = results[0].text.split('\\n')[:-1]\n",
    "entries = [pd.DataFrame(rr.text.split('\\n')[:-1]).T for rr in results[1:]]\n",
    "entries_df = pd.concat(entries)"
   ]
  },
  {
   "cell_type": "code",
   "execution_count": 4,
   "id": "a4d5a13a",
   "metadata": {
    "execution": {
     "iopub.execute_input": "2022-12-20T13:50:10.516256Z",
     "iopub.status.busy": "2022-12-20T13:50:10.515809Z",
     "iopub.status.idle": "2022-12-20T13:50:10.517456Z",
     "shell.execute_reply": "2022-12-20T13:50:10.517757Z"
    }
   },
   "outputs": [],
   "source": [
    "# Fix column names\n",
    "entries_df.columns = col_headers\n",
    "# Drop first empty column\n",
    "entries_df = entries_df.drop(entries_df.columns[0], axis = 1)\n",
    "# Add link to URL for additional FDA details\n",
    "base_fda_info_url = \"https://www.accessdata.fda.gov/scripts/cdrh/cfdocs/cfpmn/pmn.cfm?ID=\"\n",
    "entries_df['fda_url'] = [base_fda_info_url + id for id in entries_df['Submission Number']]"
   ]
  },
  {
   "cell_type": "code",
   "execution_count": 5,
   "id": "01d17e23",
   "metadata": {
    "execution": {
     "iopub.execute_input": "2022-12-20T13:50:10.523777Z",
     "iopub.status.busy": "2022-12-20T13:50:10.523339Z",
     "iopub.status.idle": "2022-12-20T13:50:10.531617Z",
     "shell.execute_reply": "2022-12-20T13:50:10.531923Z"
    }
   },
   "outputs": [
    {
     "data": {
      "text/html": [
       "<div>\n",
       "<style scoped>\n",
       "    .dataframe tbody tr th:only-of-type {\n",
       "        vertical-align: middle;\n",
       "    }\n",
       "\n",
       "    .dataframe tbody tr th {\n",
       "        vertical-align: top;\n",
       "    }\n",
       "\n",
       "    .dataframe thead th {\n",
       "        text-align: right;\n",
       "    }\n",
       "</style>\n",
       "<table border=\"1\" class=\"dataframe\">\n",
       "  <thead>\n",
       "    <tr style=\"text-align: right;\">\n",
       "      <th></th>\n",
       "      <th>Date of Final Decision</th>\n",
       "      <th>Submission Number</th>\n",
       "      <th>Device</th>\n",
       "      <th>Company</th>\n",
       "      <th>Panel (Lead)</th>\n",
       "      <th>Primary Product Code</th>\n",
       "      <th>fda_url</th>\n",
       "    </tr>\n",
       "  </thead>\n",
       "  <tbody>\n",
       "    <tr>\n",
       "      <th>0</th>\n",
       "      <td>07/29/2022</td>\n",
       "      <td>K213760</td>\n",
       "      <td>ABMD Software</td>\n",
       "      <td>HeartLung Corporation</td>\n",
       "      <td>Radiology</td>\n",
       "      <td>KGI</td>\n",
       "      <td>https://www.accessdata.fda.gov/scripts/cdrh/cf...</td>\n",
       "    </tr>\n",
       "    <tr>\n",
       "      <th>0</th>\n",
       "      <td>07/29/2022</td>\n",
       "      <td>K220961</td>\n",
       "      <td>Deep Learning Image Reconstruction</td>\n",
       "      <td>GE Healthcare Japan Corporation</td>\n",
       "      <td>Radiology</td>\n",
       "      <td>JAK</td>\n",
       "      <td>https://www.accessdata.fda.gov/scripts/cdrh/cf...</td>\n",
       "    </tr>\n",
       "    <tr>\n",
       "      <th>0</th>\n",
       "      <td>07/28/2022</td>\n",
       "      <td>K213998</td>\n",
       "      <td>cvi42 Auto Imaging Software Application</td>\n",
       "      <td>Circle Cardiovascular Imaging Inc</td>\n",
       "      <td>Radiology</td>\n",
       "      <td>QIH</td>\n",
       "      <td>https://www.accessdata.fda.gov/scripts/cdrh/cf...</td>\n",
       "    </tr>\n",
       "    <tr>\n",
       "      <th>0</th>\n",
       "      <td>07/28/2022</td>\n",
       "      <td>K221923</td>\n",
       "      <td>Swoop Portable MR Imaging System</td>\n",
       "      <td>Hyperfine, Inc.</td>\n",
       "      <td>Radiology</td>\n",
       "      <td>LNH</td>\n",
       "      <td>https://www.accessdata.fda.gov/scripts/cdrh/cf...</td>\n",
       "    </tr>\n",
       "    <tr>\n",
       "      <th>0</th>\n",
       "      <td>07/27/2022</td>\n",
       "      <td>K210822</td>\n",
       "      <td>DeepRhythmAI</td>\n",
       "      <td>Medicalgorithmics S.A.</td>\n",
       "      <td>Cardiovascular</td>\n",
       "      <td>DQK</td>\n",
       "      <td>https://www.accessdata.fda.gov/scripts/cdrh/cf...</td>\n",
       "    </tr>\n",
       "    <tr>\n",
       "      <th>...</th>\n",
       "      <td>...</td>\n",
       "      <td>...</td>\n",
       "      <td>...</td>\n",
       "      <td>...</td>\n",
       "      <td>...</td>\n",
       "      <td>...</td>\n",
       "      <td>...</td>\n",
       "    </tr>\n",
       "    <tr>\n",
       "      <th>0</th>\n",
       "      <td>03/12/2021</td>\n",
       "      <td>K202284</td>\n",
       "      <td>Oncospace</td>\n",
       "      <td>Oncospace, Inc.</td>\n",
       "      <td>Radiology</td>\n",
       "      <td>MUJ</td>\n",
       "      <td>https://www.accessdata.fda.gov/scripts/cdrh/cf...</td>\n",
       "    </tr>\n",
       "    <tr>\n",
       "      <th>0</th>\n",
       "      <td>02/04/2021</td>\n",
       "      <td>K203582</td>\n",
       "      <td>QUIBIM Precision Prostate (qp-Prostate)</td>\n",
       "      <td>QUIBIM S.L.</td>\n",
       "      <td>Radiology</td>\n",
       "      <td>LLZ</td>\n",
       "      <td>https://www.accessdata.fda.gov/scripts/cdrh/cf...</td>\n",
       "    </tr>\n",
       "    <tr>\n",
       "      <th>0</th>\n",
       "      <td>01/12/2021</td>\n",
       "      <td>K203280</td>\n",
       "      <td>Hepatica V1 (Hepatica V1.0.0)</td>\n",
       "      <td>Perspectum Ltd.</td>\n",
       "      <td>Radiology</td>\n",
       "      <td>LNH</td>\n",
       "      <td>https://www.accessdata.fda.gov/scripts/cdrh/cf...</td>\n",
       "    </tr>\n",
       "    <tr>\n",
       "      <th>0</th>\n",
       "      <td>01/11/2021</td>\n",
       "      <td>P200003</td>\n",
       "      <td>Imagio Breast Imaging System</td>\n",
       "      <td>Seno Medical Instruments, Inc.</td>\n",
       "      <td>Radiology</td>\n",
       "      <td>QNK</td>\n",
       "      <td>https://www.accessdata.fda.gov/scripts/cdrh/cf...</td>\n",
       "    </tr>\n",
       "    <tr>\n",
       "      <th>0</th>\n",
       "      <td>01/08/2021</td>\n",
       "      <td>K203329</td>\n",
       "      <td>HeartFlow Analysis</td>\n",
       "      <td>HeartFlow, Inc.</td>\n",
       "      <td>Cardiovascular</td>\n",
       "      <td>PJA</td>\n",
       "      <td>https://www.accessdata.fda.gov/scripts/cdrh/cf...</td>\n",
       "    </tr>\n",
       "  </tbody>\n",
       "</table>\n",
       "<p>521 rows × 7 columns</p>\n",
       "</div>"
      ],
      "text/plain": [
       "   Date of Final Decision Submission Number  \\\n",
       "0              07/29/2022           K213760   \n",
       "0              07/29/2022           K220961   \n",
       "0              07/28/2022           K213998   \n",
       "0              07/28/2022           K221923   \n",
       "0              07/27/2022           K210822   \n",
       "..                    ...               ...   \n",
       "0              03/12/2021           K202284   \n",
       "0              02/04/2021           K203582   \n",
       "0              01/12/2021           K203280   \n",
       "0              01/11/2021          P200003    \n",
       "0              01/08/2021           K203329   \n",
       "\n",
       "                                     Device  \\\n",
       "0                             ABMD Software   \n",
       "0        Deep Learning Image Reconstruction   \n",
       "0   cvi42 Auto Imaging Software Application   \n",
       "0          Swoop Portable MR Imaging System   \n",
       "0                              DeepRhythmAI   \n",
       "..                                      ...   \n",
       "0                                 Oncospace   \n",
       "0   QUIBIM Precision Prostate (qp-Prostate)   \n",
       "0             Hepatica V1 (Hepatica V1.0.0)   \n",
       "0              Imagio Breast Imaging System   \n",
       "0                        HeartFlow Analysis   \n",
       "\n",
       "                              Company    Panel (Lead) Primary Product Code  \\\n",
       "0               HeartLung Corporation       Radiology                  KGI   \n",
       "0     GE Healthcare Japan Corporation       Radiology                  JAK   \n",
       "0   Circle Cardiovascular Imaging Inc       Radiology                  QIH   \n",
       "0                     Hyperfine, Inc.       Radiology                  LNH   \n",
       "0              Medicalgorithmics S.A.  Cardiovascular                  DQK   \n",
       "..                                ...             ...                  ...   \n",
       "0                     Oncospace, Inc.       Radiology                  MUJ   \n",
       "0                         QUIBIM S.L.       Radiology                  LLZ   \n",
       "0                     Perspectum Ltd.       Radiology                  LNH   \n",
       "0      Seno Medical Instruments, Inc.       Radiology                  QNK   \n",
       "0                     HeartFlow, Inc.  Cardiovascular                  PJA   \n",
       "\n",
       "                                              fda_url  \n",
       "0   https://www.accessdata.fda.gov/scripts/cdrh/cf...  \n",
       "0   https://www.accessdata.fda.gov/scripts/cdrh/cf...  \n",
       "0   https://www.accessdata.fda.gov/scripts/cdrh/cf...  \n",
       "0   https://www.accessdata.fda.gov/scripts/cdrh/cf...  \n",
       "0   https://www.accessdata.fda.gov/scripts/cdrh/cf...  \n",
       "..                                                ...  \n",
       "0   https://www.accessdata.fda.gov/scripts/cdrh/cf...  \n",
       "0   https://www.accessdata.fda.gov/scripts/cdrh/cf...  \n",
       "0   https://www.accessdata.fda.gov/scripts/cdrh/cf...  \n",
       "0   https://www.accessdata.fda.gov/scripts/cdrh/cf...  \n",
       "0   https://www.accessdata.fda.gov/scripts/cdrh/cf...  \n",
       "\n",
       "[521 rows x 7 columns]"
      ]
     },
     "metadata": {},
     "output_type": "display_data"
    }
   ],
   "source": [
    "# Show some data\n",
    "display(entries_df)"
   ]
  },
  {
   "cell_type": "code",
   "execution_count": 6,
   "id": "dd177601",
   "metadata": {
    "execution": {
     "iopub.execute_input": "2022-12-20T13:50:10.534768Z",
     "iopub.status.busy": "2022-12-20T13:50:10.534309Z",
     "iopub.status.idle": "2022-12-20T13:50:10.537379Z",
     "shell.execute_reply": "2022-12-20T13:50:10.537683Z"
    }
   },
   "outputs": [
    {
     "data": {
      "text/plain": [
       "Radiology                      392\n",
       "Cardiovascular                  57\n",
       "Hematology                      15\n",
       "Neurology                       14\n",
       "Ophthalmic                       7\n",
       "Clinical Chemistry               6\n",
       "General And Plastic Surgery      5\n",
       "Microbiology                     5\n",
       "Gastroenterology-Urology         4\n",
       "Anesthesiology                   4\n",
       "Pathology                        4\n",
       "General Hospital                 3\n",
       "Gastroenterology & Urology       2\n",
       "Obstetrics And Gynecology        1\n",
       "Orthopedic                       1\n",
       "Dental                           1\n",
       "Name: Panel (Lead), dtype: int64"
      ]
     },
     "execution_count": 6,
     "metadata": {},
     "output_type": "execute_result"
    }
   ],
   "source": [
    "# Count product categories\n",
    "entries_df['Panel (Lead)'].value_counts()"
   ]
  },
  {
   "cell_type": "code",
   "execution_count": 7,
   "id": "820ebe44",
   "metadata": {
    "execution": {
     "iopub.execute_input": "2022-12-20T13:50:10.541348Z",
     "iopub.status.busy": "2022-12-20T13:50:10.540844Z",
     "iopub.status.idle": "2022-12-20T13:50:10.542761Z",
     "shell.execute_reply": "2022-12-20T13:50:10.543073Z"
    }
   },
   "outputs": [
    {
     "data": {
      "text/plain": [
       "Siemens Medical Solutions USA, Inc.    21\n",
       "Canon Medical Systems Corporation      15\n",
       "Aidoc Medical, Ltd.                    13\n",
       "Zebra Medical Vision Ltd.               9\n",
       "GE Medical Systems SCS                  7\n",
       "                                       ..\n",
       "Behold.AI Technologies Limited          1\n",
       "Xiamen Manteia Technology Ltd.          1\n",
       "Siemens Medical Solution USA, Inc.      1\n",
       "Varian Medical Systems, Inc.            1\n",
       "Seno Medical Instruments, Inc.          1\n",
       "Name: Company, Length: 342, dtype: int64"
      ]
     },
     "execution_count": 7,
     "metadata": {},
     "output_type": "execute_result"
    }
   ],
   "source": [
    "# Count companies\n",
    "entries_df['Company'].value_counts()"
   ]
  },
  {
   "cell_type": "code",
   "execution_count": 8,
   "id": "29604dd6",
   "metadata": {
    "execution": {
     "iopub.execute_input": "2022-12-20T13:50:10.545379Z",
     "iopub.status.busy": "2022-12-20T13:50:10.544936Z",
     "iopub.status.idle": "2022-12-20T13:50:10.550624Z",
     "shell.execute_reply": "2022-12-20T13:50:10.550927Z"
    }
   },
   "outputs": [],
   "source": [
    "# Save to file\n",
    "entries_df.to_csv(OUTPUT_FILE, index = False)"
   ]
  }
 ],
 "metadata": {
  "finalized": {
   "timestamp": 1633121686379,
   "trusted": true
  },
  "kernelspec": {
   "display_name": "Python 3",
   "language": "python",
   "name": "python3"
  },
  "language_info": {
   "codemirror_mode": {
    "name": "ipython",
    "version": 3
   },
   "file_extension": ".py",
   "mimetype": "text/x-python",
   "name": "python",
   "nbconvert_exporter": "python",
   "pygments_lexer": "ipython3",
   "version": "3.9.13"
  }
 },
 "nbformat": 4,
 "nbformat_minor": 5
}
